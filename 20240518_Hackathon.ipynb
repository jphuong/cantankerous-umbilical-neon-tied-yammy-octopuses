{
 "cells": [
  {
   "cell_type": "code",
   "execution_count": 6,
   "id": "3132fd9b-eded-4f9a-ae9c-35617d19df6d",
   "metadata": {
    "tags": []
   },
   "outputs": [
    {
     "name": "stdout",
     "output_type": "stream",
     "text": [
      "                   INDICATOR                     PANEL  PANEL_NUM  \\\n",
      "0  Drug overdose death rates  All drug overdose deaths          0   \n",
      "1  Drug overdose death rates  All drug overdose deaths          0   \n",
      "2  Drug overdose death rates  All drug overdose deaths          0   \n",
      "3  Drug overdose death rates  All drug overdose deaths          0   \n",
      "4  Drug overdose death rates  All drug overdose deaths          0   \n",
      "\n",
      "                                                UNIT  UNIT_NUM STUB_NAME  \\\n",
      "0  Deaths per 100,000 resident population, age-ad...         1     Total   \n",
      "1  Deaths per 100,000 resident population, age-ad...         1     Total   \n",
      "2  Deaths per 100,000 resident population, age-ad...         1     Total   \n",
      "3  Deaths per 100,000 resident population, age-ad...         1     Total   \n",
      "4  Deaths per 100,000 resident population, age-ad...         1     Total   \n",
      "\n",
      "   STUB_NAME_NUM   STUB_LABEL  STUB_LABEL_NUM  YEAR  YEAR_NUM       AGE  \\\n",
      "0              0  All persons             0.1  1999         1  All ages   \n",
      "1              0  All persons             0.1  2000         2  All ages   \n",
      "2              0  All persons             0.1  2001         3  All ages   \n",
      "3              0  All persons             0.1  2002         4  All ages   \n",
      "4              0  All persons             0.1  2003         5  All ages   \n",
      "\n",
      "   AGE_NUM  ESTIMATE FLAG  \n",
      "0      1.1       6.1  NaN  \n",
      "1      1.1       6.2  NaN  \n",
      "2      1.1       6.8  NaN  \n",
      "3      1.1       8.2  NaN  \n",
      "4      1.1       8.9  NaN  \n"
     ]
    }
   ],
   "source": [
    "import pandas as pd\n",
    "opiod_df = pd.read_csv('Drug_overdose_death_rates__by_drug_type__sex__age__race__and_Hispanic_origin__United_States_20240518.csv')\n",
    "\n",
    "print(opiod_df.head())"
   ]
  }
 ],
 "metadata": {
  "kernelspec": {
   "display_name": "Python 3 (ipykernel)",
   "language": "python",
   "name": "python3"
  },
  "language_info": {
   "codemirror_mode": {
    "name": "ipython",
    "version": 3
   },
   "file_extension": ".py",
   "mimetype": "text/x-python",
   "name": "python",
   "nbconvert_exporter": "python",
   "pygments_lexer": "ipython3",
   "version": "3.11.7"
  }
 },
 "nbformat": 4,
 "nbformat_minor": 5
}
